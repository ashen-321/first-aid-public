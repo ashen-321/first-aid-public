{
 "cells": [
  {
   "cell_type": "code",
   "execution_count": 1,
   "id": "5fe7b9c5-f853-4a3b-854e-dc4460bd9a8e",
   "metadata": {},
   "outputs": [],
   "source": [
    "import os\n",
    "import asyncio\n",
    "import sys\n",
    "\n",
    "module_paths = [\"./\", \"./configs\", \"./backend\"]\n",
    "file_path = os.path.dirname(\"/home/aaron/src/first-aid/demo/firstaid/home.py\")\n",
    "\n",
    "model_id_c37 = \"us.anthropic.claude-3-7-sonnet-20250219-v1:0\"\n",
    "model_id_h35 = 'us.anthropic.claude-3-5-haiku-20241022-v1:0'\n",
    "model_id_c35 = \"us.anthropic.claude-3-5-sonnet-20241022-v2:0\"\n",
    "model_id_nova = 'us.amazon.nova-lite-v1:0'\n",
    "model_id_ds = 'us.deepseek.r1-v1:0'\n",
    "\n",
    "os.chdir(file_path)\n",
    "\n",
    "for module_path in module_paths:\n",
    "    full_path = os.path.normpath(os.path.join(file_path, module_path))\n",
    "    sys.path.append(full_path)"
   ]
  },
  {
   "cell_type": "code",
   "execution_count": 2,
   "id": "faf8cbf0-4558-44b5-92cc-6b44ad2be681",
   "metadata": {},
   "outputs": [
    {
     "name": "stderr",
     "output_type": "stream",
     "text": [
      "/home/aaron/src/first-aid/demo/firstaid/backend/agents.py:19: LangChainDeprecationWarning: As of langchain-core 0.3.0, LangChain uses pydantic v2 internally. The langchain_core.pydantic_v1 module was a compatibility shim for pydantic v1, and should no longer be used. Please update the code to import from Pydantic directly.\n",
      "\n",
      "For example, replace imports like: `from langchain_core.pydantic_v1 import BaseModel`\n",
      "with: `from pydantic import BaseModel`\n",
      "or the v1 compatibility namespace if you are working in a code base that has not been fully upgraded to pydantic 2 yet. \tfrom pydantic.v1 import BaseModel\n",
      "\n",
      "  from tools import openai_url_invoke\n"
     ]
    }
   ],
   "source": [
    "from agents import *\n",
    "from tools import *\n",
    "from orchestration import *\n",
    "\n",
    "os.environ[\"TAVILY_API_KEY\"] = os.getenv(\"tavily_api_token\")\n",
    "os.environ[\"OPENAI_API_KEY\"] = api_key = os.getenv(\"bedrock_api_token\")\n",
    "os.environ[\"OPENAI_BASE_URL\"] = base_url = os.getenv(\"bedrock_api_url\")\n",
    "\n",
    "set_agent_config({\n",
    "    \"internal_file_path\": \"/home/aaron/src/first-aid/demo/firstaid/internal-multimedia\"\n",
    "})\n",
    "\n",
    "set_tool_config({\n",
    "    \"max_search_results\": 2,\n",
    "    \"model_id\": model_id_c35\n",
    "})\n",
    "\n",
    "prompt = \"how should I treat eczema?\"\n",
    "\n",
    "orch = Orchestration()\n",
    "# events = orch.graph.astream(\n",
    "#     {\"question\": prompt},\n",
    "#     # Maximum number of steps to take in the graph\n",
    "#     {\"recursion_limit\": 30},\n",
    "#     stream_mode=\"updates\"\n",
    "# )\n",
    "\n",
    "\n",
    "# async for s in events:\n",
    "#     print(s)"
   ]
  },
  {
   "cell_type": "code",
   "execution_count": 3,
   "id": "22cdb7ca-e62c-4c9a-8a19-c794f0b1d840",
   "metadata": {},
   "outputs": [
    {
     "data": {
      "image/png": "[encoded data removed]",
      "text/plain": [
       "<IPython.core.display.Image object>"
      ]
     },
     "metadata": {},
     "output_type": "display_data"
    }
   ],
   "source": [
    "from IPython.display import Image, display\n",
    "\n",
    "display(Image(orch.graph.get_graph().draw_mermaid_png()))"
   ]
  },
  {
   "cell_type": "code",
   "execution_count": 11,
   "id": "6b10476e-d5cf-4cac-94e9-d2ff78e29690",
   "metadata": {},
   "outputs": [
    {
     "name": "stderr",
     "output_type": "stream",
     "text": [
      "Loading checkpoint shards: 100%|████████████████████████████████████████████████████████████████████████████████████████████████████████████████████████████████████████████████████████████████████████████████████████████████████████████████████████████████████████████████████████| 4/4 [00:01<00:00,  2.71it/s]\n"
     ]
    },
    {
     "ename": "RuntimeError",
     "evalue": "NVML_SUCCESS == DriverAPI::get()->nvmlInit_v2_() INTERNAL ASSERT FAILED at \"/pytorch/c10/cuda/CUDACachingAllocator.cpp\":983, please report a bug to PyTorch. ",
     "output_type": "error",
     "traceback": [
      "\u001b[31m---------------------------------------------------------------------------\u001b[39m",
      "\u001b[31mRuntimeError\u001b[39m                              Traceback (most recent call last)",
      "\u001b[36mCell\u001b[39m\u001b[36m \u001b[39m\u001b[32mIn[11]\u001b[39m\u001b[32m, line 3\u001b[39m\n\u001b[32m      1\u001b[39m \u001b[38;5;66;03m# Load model directly\u001b[39;00m\n\u001b[32m      2\u001b[39m \u001b[38;5;28;01mfrom\u001b[39;00m\u001b[38;5;250m \u001b[39m\u001b[34;01mtransformers\u001b[39;00m\u001b[38;5;250m \u001b[39m\u001b[38;5;28;01mimport\u001b[39;00m AutoModel, BertModel, AutoTokenizer\n\u001b[32m----> \u001b[39m\u001b[32m3\u001b[39m model = \u001b[43mAutoModel\u001b[49m\u001b[43m.\u001b[49m\u001b[43mfrom_pretrained\u001b[49m\u001b[43m(\u001b[49m\u001b[33;43m\"\u001b[39;49m\u001b[33;43malfredcs/torchrun-gemma-3-12b-grpo-icd10pcs-merged\u001b[39;49m\u001b[33;43m\"\u001b[39;49m\u001b[43m)\u001b[49m\u001b[43m.\u001b[49m\u001b[43mto\u001b[49m\u001b[43m(\u001b[49m\u001b[33;43m\"\u001b[39;49m\u001b[33;43mcuda\u001b[39;49m\u001b[33;43m\"\u001b[39;49m\u001b[43m)\u001b[49m\n\u001b[32m      4\u001b[39m \u001b[38;5;66;03m# model = BertModel.from_pretrained(\"google-bert/bert-base-uncased\")\u001b[39;00m\n\u001b[32m      5\u001b[39m \u001b[38;5;66;03m# tokenizer = AutoTokenizer.from_pretrained(\"alfredcs/gemma-3-27b-firstaid\")\u001b[39;00m\n\u001b[32m      6\u001b[39m \n\u001b[32m      7\u001b[39m \u001b[38;5;66;03m# prompt = tokenizer.encode(\"how should I treat a poison ivy scrape?\", return_tensors='pt')\u001b[39;00m\n\u001b[32m      8\u001b[39m \n\u001b[32m      9\u001b[39m \u001b[38;5;66;03m# output = model(prompt)\u001b[39;00m\n",
      "\u001b[36mFile \u001b[39m\u001b[32m~/.conda/envs/firstaid/lib/python3.12/site-packages/transformers/modeling_utils.py:3850\u001b[39m, in \u001b[36mPreTrainedModel.to\u001b[39m\u001b[34m(self, *args, **kwargs)\u001b[39m\n\u001b[32m   3845\u001b[39m     \u001b[38;5;28;01mif\u001b[39;00m dtype_present_in_args:\n\u001b[32m   3846\u001b[39m         \u001b[38;5;28;01mraise\u001b[39;00m \u001b[38;5;167;01mValueError\u001b[39;00m(\n\u001b[32m   3847\u001b[39m             \u001b[33m\"\u001b[39m\u001b[33mYou cannot cast a GPTQ model in a new `dtype`. Make sure to load the model using `from_pretrained` using the desired\u001b[39m\u001b[33m\"\u001b[39m\n\u001b[32m   3848\u001b[39m             \u001b[33m\"\u001b[39m\u001b[33m `dtype` by passing the correct `torch_dtype` argument.\u001b[39m\u001b[33m\"\u001b[39m\n\u001b[32m   3849\u001b[39m         )\n\u001b[32m-> \u001b[39m\u001b[32m3850\u001b[39m \u001b[38;5;28;01mreturn\u001b[39;00m \u001b[38;5;28;43msuper\u001b[39;49m\u001b[43m(\u001b[49m\u001b[43m)\u001b[49m\u001b[43m.\u001b[49m\u001b[43mto\u001b[49m\u001b[43m(\u001b[49m\u001b[43m*\u001b[49m\u001b[43margs\u001b[49m\u001b[43m,\u001b[49m\u001b[43m \u001b[49m\u001b[43m*\u001b[49m\u001b[43m*\u001b[49m\u001b[43mkwargs\u001b[49m\u001b[43m)\u001b[49m\n",
      "\u001b[36mFile \u001b[39m\u001b[32m~/.conda/envs/firstaid/lib/python3.12/site-packages/torch/nn/modules/module.py:1343\u001b[39m, in \u001b[36mModule.to\u001b[39m\u001b[34m(self, *args, **kwargs)\u001b[39m\n\u001b[32m   1340\u001b[39m         \u001b[38;5;28;01melse\u001b[39;00m:\n\u001b[32m   1341\u001b[39m             \u001b[38;5;28;01mraise\u001b[39;00m\n\u001b[32m-> \u001b[39m\u001b[32m1343\u001b[39m \u001b[38;5;28;01mreturn\u001b[39;00m \u001b[38;5;28;43mself\u001b[39;49m\u001b[43m.\u001b[49m\u001b[43m_apply\u001b[49m\u001b[43m(\u001b[49m\u001b[43mconvert\u001b[49m\u001b[43m)\u001b[49m\n",
      "\u001b[36mFile \u001b[39m\u001b[32m~/.conda/envs/firstaid/lib/python3.12/site-packages/torch/nn/modules/module.py:903\u001b[39m, in \u001b[36mModule._apply\u001b[39m\u001b[34m(self, fn, recurse)\u001b[39m\n\u001b[32m    901\u001b[39m \u001b[38;5;28;01mif\u001b[39;00m recurse:\n\u001b[32m    902\u001b[39m     \u001b[38;5;28;01mfor\u001b[39;00m module \u001b[38;5;129;01min\u001b[39;00m \u001b[38;5;28mself\u001b[39m.children():\n\u001b[32m--> \u001b[39m\u001b[32m903\u001b[39m         \u001b[43mmodule\u001b[49m\u001b[43m.\u001b[49m\u001b[43m_apply\u001b[49m\u001b[43m(\u001b[49m\u001b[43mfn\u001b[49m\u001b[43m)\u001b[49m\n\u001b[32m    905\u001b[39m \u001b[38;5;28;01mdef\u001b[39;00m\u001b[38;5;250m \u001b[39m\u001b[34mcompute_should_use_set_data\u001b[39m(tensor, tensor_applied):\n\u001b[32m    906\u001b[39m     \u001b[38;5;28;01mif\u001b[39;00m torch._has_compatible_shallow_copy_type(tensor, tensor_applied):\n\u001b[32m    907\u001b[39m         \u001b[38;5;66;03m# If the new tensor has compatible tensor type as the existing tensor,\u001b[39;00m\n\u001b[32m    908\u001b[39m         \u001b[38;5;66;03m# the current behavior is to change the tensor in-place using `.data =`,\u001b[39;00m\n\u001b[32m   (...)\u001b[39m\u001b[32m    913\u001b[39m         \u001b[38;5;66;03m# global flag to let the user control whether they want the future\u001b[39;00m\n\u001b[32m    914\u001b[39m         \u001b[38;5;66;03m# behavior of overwriting the existing tensor or not.\u001b[39;00m\n",
      "\u001b[36mFile \u001b[39m\u001b[32m~/.conda/envs/firstaid/lib/python3.12/site-packages/torch/nn/modules/module.py:930\u001b[39m, in \u001b[36mModule._apply\u001b[39m\u001b[34m(self, fn, recurse)\u001b[39m\n\u001b[32m    926\u001b[39m \u001b[38;5;66;03m# Tensors stored in modules are graph leaves, and we don't want to\u001b[39;00m\n\u001b[32m    927\u001b[39m \u001b[38;5;66;03m# track autograd history of `param_applied`, so we have to use\u001b[39;00m\n\u001b[32m    928\u001b[39m \u001b[38;5;66;03m# `with torch.no_grad():`\u001b[39;00m\n\u001b[32m    929\u001b[39m \u001b[38;5;28;01mwith\u001b[39;00m torch.no_grad():\n\u001b[32m--> \u001b[39m\u001b[32m930\u001b[39m     param_applied = \u001b[43mfn\u001b[49m\u001b[43m(\u001b[49m\u001b[43mparam\u001b[49m\u001b[43m)\u001b[49m\n\u001b[32m    931\u001b[39m p_should_use_set_data = compute_should_use_set_data(param, param_applied)\n\u001b[32m    933\u001b[39m \u001b[38;5;66;03m# subclasses may have multiple child tensors so we need to use swap_tensors\u001b[39;00m\n",
      "\u001b[36mFile \u001b[39m\u001b[32m~/.conda/envs/firstaid/lib/python3.12/site-packages/torch/nn/modules/module.py:1329\u001b[39m, in \u001b[36mModule.to.<locals>.convert\u001b[39m\u001b[34m(t)\u001b[39m\n\u001b[32m   1322\u001b[39m     \u001b[38;5;28;01mif\u001b[39;00m convert_to_format \u001b[38;5;129;01mis\u001b[39;00m \u001b[38;5;129;01mnot\u001b[39;00m \u001b[38;5;28;01mNone\u001b[39;00m \u001b[38;5;129;01mand\u001b[39;00m t.dim() \u001b[38;5;129;01min\u001b[39;00m (\u001b[32m4\u001b[39m, \u001b[32m5\u001b[39m):\n\u001b[32m   1323\u001b[39m         \u001b[38;5;28;01mreturn\u001b[39;00m t.to(\n\u001b[32m   1324\u001b[39m             device,\n\u001b[32m   1325\u001b[39m             dtype \u001b[38;5;28;01mif\u001b[39;00m t.is_floating_point() \u001b[38;5;129;01mor\u001b[39;00m t.is_complex() \u001b[38;5;28;01melse\u001b[39;00m \u001b[38;5;28;01mNone\u001b[39;00m,\n\u001b[32m   1326\u001b[39m             non_blocking,\n\u001b[32m   1327\u001b[39m             memory_format=convert_to_format,\n\u001b[32m   1328\u001b[39m         )\n\u001b[32m-> \u001b[39m\u001b[32m1329\u001b[39m     \u001b[38;5;28;01mreturn\u001b[39;00m \u001b[43mt\u001b[49m\u001b[43m.\u001b[49m\u001b[43mto\u001b[49m\u001b[43m(\u001b[49m\n\u001b[32m   1330\u001b[39m \u001b[43m        \u001b[49m\u001b[43mdevice\u001b[49m\u001b[43m,\u001b[49m\n\u001b[32m   1331\u001b[39m \u001b[43m        \u001b[49m\u001b[43mdtype\u001b[49m\u001b[43m \u001b[49m\u001b[38;5;28;43;01mif\u001b[39;49;00m\u001b[43m \u001b[49m\u001b[43mt\u001b[49m\u001b[43m.\u001b[49m\u001b[43mis_floating_point\u001b[49m\u001b[43m(\u001b[49m\u001b[43m)\u001b[49m\u001b[43m \u001b[49m\u001b[38;5;129;43;01mor\u001b[39;49;00m\u001b[43m \u001b[49m\u001b[43mt\u001b[49m\u001b[43m.\u001b[49m\u001b[43mis_complex\u001b[49m\u001b[43m(\u001b[49m\u001b[43m)\u001b[49m\u001b[43m \u001b[49m\u001b[38;5;28;43;01melse\u001b[39;49;00m\u001b[43m \u001b[49m\u001b[38;5;28;43;01mNone\u001b[39;49;00m\u001b[43m,\u001b[49m\n\u001b[32m   1332\u001b[39m \u001b[43m        \u001b[49m\u001b[43mnon_blocking\u001b[49m\u001b[43m,\u001b[49m\n\u001b[32m   1333\u001b[39m \u001b[43m    \u001b[49m\u001b[43m)\u001b[49m\n\u001b[32m   1334\u001b[39m \u001b[38;5;28;01mexcept\u001b[39;00m \u001b[38;5;167;01mNotImplementedError\u001b[39;00m \u001b[38;5;28;01mas\u001b[39;00m e:\n\u001b[32m   1335\u001b[39m     \u001b[38;5;28;01mif\u001b[39;00m \u001b[38;5;28mstr\u001b[39m(e) == \u001b[33m\"\u001b[39m\u001b[33mCannot copy out of meta tensor; no data!\u001b[39m\u001b[33m\"\u001b[39m:\n",
      "\u001b[31mRuntimeError\u001b[39m: NVML_SUCCESS == DriverAPI::get()->nvmlInit_v2_() INTERNAL ASSERT FAILED at \"/pytorch/c10/cuda/CUDACachingAllocator.cpp\":983, please report a bug to PyTorch. "
     ]
    }
   ],
   "source": [
    "# Load model directly\n",
    "from transformers import AutoModel, BertModel, AutoTokenizer\n",
    "model = AutoModel.from_pretrained(\"alfredcs/torchrun-gemma-3-12b-grpo-icd10pcs-merged\").to(\"cuda\")\n",
    "# model = BertModel.from_pretrained(\"google-bert/bert-base-uncased\")\n",
    "# tokenizer = AutoTokenizer.from_pretrained(\"alfredcs/gemma-3-27b-firstaid\")\n",
    "\n",
    "# prompt = tokenizer.encode(\"how should I treat a poison ivy scrape?\", return_tensors='pt')\n",
    "\n",
    "# output = model(prompt)"
   ]
  },
  {
   "cell_type": "code",
   "execution_count": 4,
   "id": "87d2c0d2-7bdb-4244-a4da-4f741fa766ae",
   "metadata": {},
   "outputs": [
    {
     "name": "stdout",
     "output_type": "stream",
     "text": [
      "Okay, let's talk about treating eczema! It's a really common condition, but can be frustrating to manage. Here's a breakdown of how to treat it, covering everything from basic self-care to medical treatments.  I'll categorize it for clarity.  **Please read the disclaimer at the very end, as I am not a medical professional.**\n",
      "\n",
      "**Understanding Eczema & Treatment Goals**\n",
      "\n",
      "First, it's helpful to know that \"eczema\" isn't just one thing. Atopic dermatitis is the most common type, but there are others.  The goal of treatment is to:\n",
      "\n",
      "* **Reduce itching:** This is *key* as scratching makes things worse.\n",
      "* **Reduce inflammation:**  This calms the redness and swelling.\n",
      "* **Repair the skin barrier:** Eczema skin is often dry and easily irritated.\n",
      "* **Prevent flares:**  Identifying and avoiding triggers is important.\n",
      "* **Prevent infection:** Broken skin is vulnerable to bacteria and viruses.\n",
      "\n",
      "\n",
      "\n",
      "**I. Daily Skincare (The Foundation of Eczema Management)**\n",
      "\n",
      "This is the *most* important part for most people. Consistency is crucial!\n",
      "\n",
      "* **Moisturize, Moisturize, Moisturize!**  This is the #1 thing you can do.\n",
      "    * **Emollients:** Use thick, fragrance-free creams or ointments *immediately* after bathing (within 3 minutes!).  Ointments are generally more effective than creams, but can feel greasy. Creams are a good compromise.  Lotions are generally *not* recommended as they have a high water content and can dry the skin out.\n",
      "    * **Examples of good emollients:**  Petroleum jelly (Vaseline), mineral oil, CeraVe Cream, Eucerin Cream, Vanicream.\n",
      "    * **Apply frequently:**  At least twice a day, and more often if your skin feels dry.\n",
      "* **Gentle Cleansing:**\n",
      "    * **Short, lukewarm baths or showers:** Hot water dries out the skin. Limit to 10-15 minutes.\n",
      "    * **Mild, fragrance-free cleansers:** Avoid harsh soaps, sulfates (like SLS/SLES), and antibacterial soaps.\n",
      "    * **Examples:**  CeraVe Hydrating Cleanser, Cetaphil Gentle Skin Cleanser, Vanicream Gentle Body Wash.\n",
      "    * **Pat skin dry:** Don't rub.\n",
      "* **Avoid Irritants:**\n",
      "    * **Fragrances:**  In soaps, lotions, detergents, etc.\n",
      "    * **Dyes:** In clothing and detergents.\n",
      "    * **Harsh chemicals:**  Cleaning products, solvents.\n",
      "    * **Wool and synthetic fabrics:** Opt for soft, breathable cotton.\n",
      "    * **Tight-fitting clothing:**  Can rub and irritate.\n",
      "\n",
      "\n",
      "\n",
      "**II.  Over-the-Counter (OTC) Treatments (For Mild to Moderate Eczema)**\n",
      "\n",
      "* **Topical Corticosteroids (Low Potency):**  Hydrocortisone 1% cream can help reduce inflammation and itching during flares.  *Use sparingly and as directed.*  Long-term, frequent use can have side effects (thinning of the skin).  Don't use on the face without a doctor's advice.\n",
      "* **Anti-Itch Creams:**\n",
      "    * **Calamine lotion:** Can provide temporary relief from itching.\n",
      "    * **Topical anesthetics (containing pramoxine):**  Can numb the skin and reduce itching.\n",
      "* **Colloidal Oatmeal:**  Available in bath treatments or as a lotion.  Can soothe and hydrate the skin.\n",
      "* **Wet Wraps:**  Applying a damp cloth over moisturized skin can help hydrate and reduce inflammation. (Good for more severe flares - see resources at the end for instructions).\n",
      "\n",
      "**III. Prescription Treatments (For Moderate to Severe Eczema - *Requires a Doctor's Visit*)**\n",
      "\n",
      "* **Topical Corticosteroids (Higher Potency):**  Prescribed by a doctor for more severe inflammation.  Use as directed, as long-term use can have side effects.\n",
      "* **Topical Calcineurin Inhibitors (TCIs):**  Tacrolimus (Protopic) and Pimecrolimus (Elidel).  These reduce inflammation without the side effects of long-term steroid use.  Often used for sensitive areas like the face and neck.\n",
      "* **Crisaborole (Eucrisa):** A non-steroidal ointment that reduces inflammation.\n",
      "* **Systemic Medications:**  For severe eczema that doesn't respond to topical treatments.\n",
      "    * **Oral Corticosteroids:**  Used for short-term flare-ups.\n",
      "    * **Immunosuppressants:**  (e.g., cyclosporine, methotrexate, azathioprine) Suppress the immune system to reduce inflammation.  Require careful monitoring.\n",
      "    * **Biologics:** (e.g., Dupilumab/Dupixent)  Target specific parts of the immune system.  Often given by injection.\n",
      "* **Phototherapy (Light Therapy):**  Exposure to controlled amounts of ultraviolet (UV) light can help reduce inflammation.\n",
      "\n",
      "\n",
      "\n",
      "**IV. Identifying and Avoiding Triggers**\n",
      "\n",
      "* **Allergens:**  Pollen, dust mites, pet dander, mold.  Allergy testing may be helpful.\n",
      "* **Irritants:** (See above in Daily Skincare)\n",
      "* **Stress:**  Stress can worsen eczema.  Find healthy ways to manage stress (yoga, meditation, exercise).\n",
      "* **Food Allergies:**  Less common, but can be a trigger for some people, especially children.  Work with a doctor or allergist to identify potential food triggers.\n",
      "* **Temperature Changes:**  Extreme heat or cold can worsen eczema.\n",
      "* **Sweat:**  Can irritate the skin.  Keep skin cool and dry.\n",
      "\n",
      "**V.  When to See a Doctor**\n",
      "\n",
      "* **If OTC treatments aren't helping.**\n",
      "* **If your eczema is severe and widespread.**\n",
      "* **If your skin shows signs of infection:**  Redness, swelling, pus, fever.\n",
      "* **If your eczema is interfering with your sleep or daily activities.**\n",
      "* **If you're concerned about side effects from medications.**\n",
      "\n",
      "\n",
      "\n",
      "\n",
      "**Resources:**\n",
      "\n",
      "* **National Eczema Association:** [https://nationaleczema.org/](https://nationaleczema.org/)  (Excellent information, resources, and support)\n",
      "* **Wet Wrap Therapy Instructions:** [https://nationaleczema.org/eczema/treatment/wet-wraps/](https://nationaleczema.org/eczema/treatment/wet-wraps/)\n",
      "\n",
      "\n",
      "\n",
      "**Disclaimer:**  I am an AI chatbot and cannot provide medical advice. This information is for general knowledge and informational purposes only, and does not constitute medical advice. It is essential to consult with a qualified healthcare professional for any health concerns or before making any decisions related to your health or treatment.  Self-treating can be dangerous.  A doctor can properly diagnose your eczema and recommend the best course of treatment for *you*.\n"
     ]
    }
   ],
   "source": [
    "from openai import OpenAI\n",
    "\n",
    "def local_openai_textGen(model_id: str, prompt: str, max_token: int, temperature: float, top_p: float, top_k: int):\n",
    "    openai_api_key = \"EMPTY\"\n",
    "    openai_api_base = \"http://infs.cavatar.info:8081/v1\" #\"http://agent.cavatar.info:8083/v1\"\n",
    "    \n",
    "    client = OpenAI(\n",
    "        api_key=openai_api_key,\n",
    "        base_url=openai_api_base,\n",
    "    )\n",
    "\n",
    "    chat_response = client.chat.completions.create(\n",
    "        model=model_id,\n",
    "        messages=[\n",
    "            {\"role\": \"system\", \"content\": \"You are a helpful assistant. Please answer the user question\"},\n",
    "            {\"role\": \"user\", \"content\": prompt}\n",
    "        ],\n",
    "        stream=False,\n",
    "        temperature=temperature,\n",
    "        max_tokens=max_token,\n",
    "        top_p=top_p\n",
    "    )\n",
    "    usages = f'Completion_tokens: {chat_response.usage.completion_tokens}, Prompt_tokens: {chat_response.usage.prompt_tokens},  Total_tokens:{chat_response.usage.total_tokens}'\n",
    "    return chat_response.choices[0].message.content, usages\n",
    "    \n",
    "\n",
    "text, _ = local_openai_textGen(\"alfredcs/gemma-3-27b-grpo-med-merged\", \"how to treat eczema?\", 10240, 0.05, 0.9, 20)\n",
    "# text, _ = local_openai_textGen(\"Qwen/Qwen3-30B-A3B\", \"how to treat eczema?\", 10240, 0.05, 0.9, 20)\n",
    "print(text)"
   ]
  },
  {
   "cell_type": "code",
   "execution_count": null,
   "id": "3d6e3621-9553-4fc0-9286-56ac5533ceeb",
   "metadata": {},
   "outputs": [],
   "source": []
  }
 ],
 "metadata": {
  "kernelspec": {
   "display_name": "firstaid",
   "language": "python",
   "name": "firstaid"
  },
  "language_info": {
   "codemirror_mode": {
    "name": "ipython",
    "version": 3
   },
   "file_extension": ".py",
   "mimetype": "text/x-python",
   "name": "python",
   "nbconvert_exporter": "python",
   "pygments_lexer": "ipython3",
   "version": "3.12.10"
  }
 },
 "nbformat": 4,
 "nbformat_minor": 5
}
